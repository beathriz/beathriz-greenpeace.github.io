{
 "cells": [
  {
   "attachments": {},
   "cell_type": "markdown",
   "metadata": {},
   "source": [
    "# Diferentes cenários:"
   ]
  },
  {
   "attachments": {},
   "cell_type": "markdown",
   "metadata": {},
   "source": [
    "## Cada analista da equipe de Inteligência de Dados tem um perfil próprio e temos uma conta genérica para conseguir lidar com bases de dados coletivas. No cenário em que o usuário gp_user gostaria de ter acesso para a tabela press_data, qual seria o código para disponibilizá-la?"
   ]
  },
  {
   "cell_type": "code",
   "execution_count": null,
   "metadata": {},
   "outputs": [],
   "source": [
    "# Com base na documentação é possível conceder o acesso com o comando GRANT \n",
    "\n",
    "# Sintaxe da documentação \n",
    "GRANT { ROLE role_name } [, ...] TO { { user_name [ WITH ADMIN OPTION ] } | ROLE role_name }[, ...] \n",
    "\n",
    "# Para o caso do exercício: \n",
    "GRANT ALL ON press_data TO gp_user;\n",
    "\n",
    "# Lembrando que nesse caso o usuário tem permissão total, ou seja, ele pode rodar os comandos  SELECT, INSERT, UPDATE, DELETE, REFERENCES. "
   ]
  },
  {
   "attachments": {},
   "cell_type": "markdown",
   "metadata": {},
   "source": [
    "## Em algumas vezes, mesmo após dar permissão uma vez, a tabela é reescrita com o parâmetro drop e perde as permissões. Qual o código que deve ser feito para que a tabela sempre herde os privilégios de forma padrão?"
   ]
  },
  {
   "cell_type": "code",
   "execution_count": null,
   "metadata": {},
   "outputs": [],
   "source": [
    "# Para resolver esse problema é possível usar o recursco \"privileges on future tables\" e o usuário tem acesso a todas as futuras tabelas criadas em um schema, sem precisar refazer os priviégios: \n",
    "\n",
    "GRANT USAGE ON SCHEMA public TO gp_user;\n",
    "GRANT SELECT ON ALL TABLES IN SCHEMA public TO gp_user;\n",
    "ALTER DEFAULT PRIVILEGES IN SCHEMA public GRANT SELECT ON TABLES TO gp_user;"
   ]
  },
  {
   "attachments": {},
   "cell_type": "markdown",
   "metadata": {},
   "source": [
    "## Em um cenário que alguém não é mais responsável por uma tabela específica, qual o código para mudar a pessoa proprietária dessa tabela?"
   ]
  },
  {
   "cell_type": "code",
   "execution_count": 2,
   "metadata": {},
   "outputs": [],
   "source": [
    "# Segundo a documentação, a função de proprietário  é definida no momento da criação e não pode ser alterada. \n",
    "# A maneira mais simples de alterar a propriedade, é recriar o objeto:\n",
    "\n",
    "# * Importante ter o backup dos dados antes de rodar o DROP TABLE\n",
    "\n",
    "\n",
    "CREATE TABLE temp_table AS SELECT * FROM press_data;\n",
    "\n",
    "DROP TABLE press_data;\n",
    "\n",
    "\n",
    "--  (novo_proprietario)\n",
    "\n",
    "CREATE TABLE press_data AS SELECT * FROM temp_table;\n",
    "\n",
    "DROP TABLE temp_table;\n",
    "\n",
    "\n"
   ]
  }
 ],
 "metadata": {
  "kernelspec": {
   "display_name": "Python 3",
   "language": "python",
   "name": "python3"
  },
  "language_info": {
   "codemirror_mode": {
    "name": "ipython",
    "version": 3
   },
   "file_extension": ".py",
   "mimetype": "text/x-python",
   "name": "python",
   "nbconvert_exporter": "python",
   "pygments_lexer": "ipython3",
   "version": "3.11.3"
  },
  "orig_nbformat": 4
 },
 "nbformat": 4,
 "nbformat_minor": 2
}
