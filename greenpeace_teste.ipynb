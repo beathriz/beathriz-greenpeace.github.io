{
 "cells": [
  {
   "attachments": {},
   "cell_type": "markdown",
   "metadata": {},
   "source": [
    "# Exercício 1"
   ]
  },
  {
   "attachments": {},
   "cell_type": "markdown",
   "metadata": {},
   "source": [
    "## Importação da tabela food_events dentro do dataset fda_food"
   ]
  },
  {
   "cell_type": "code",
   "execution_count": 3,
   "metadata": {},
   "outputs": [],
   "source": [
    "from google.cloud import bigquery"
   ]
  },
  {
   "cell_type": "code",
   "execution_count": 7,
   "metadata": {},
   "outputs": [],
   "source": [
    "## credenciais\n",
    "\n",
    "project_id = \"teste-greeenpeace\"\n",
    "json_path = \"C:/Users/User/Desktop/greenpeace_teste/teste-greeenpeace-9d29e6d836fb.json\"\n",
    "\n",
    "client = bigquery.Client.from_service_account_json(json_path) \n"
   ]
  },
  {
   "cell_type": "code",
   "execution_count": 12,
   "metadata": {},
   "outputs": [],
   "source": [
    "dataset_id = \"dataset_greenpeace\" \n",
    "\n",
    "# objeto de referência\n",
    "dataset_ref = bigquery.DatasetReference(project_id, dataset_id)\n",
    "\n",
    "# objeto Dataset\n",
    "dataset = bigquery.Dataset(dataset_ref)\n",
    "dataset.friendly_name = \"dataset_greenpeace\"\n",
    "\n",
    "\n",
    "client.create_dataset(dataset)\n",
    "\n",
    "# Conexão\n",
    "dataset = client.get_dataset(dataset_ref)"
   ]
  },
  {
   "cell_type": "code",
   "execution_count": 14,
   "metadata": {},
   "outputs": [],
   "source": [
    "table_id = \"food_events\""
   ]
  },
  {
   "cell_type": "code",
   "execution_count": 15,
   "metadata": {},
   "outputs": [],
   "source": [
    "source_dataset_ref = bigquery.DatasetReference(\"bigquery-public-data\", \"fda_food\")\n",
    "source_table_ref = bigquery.TableReference(source_dataset_ref, table_id)"
   ]
  },
  {
   "cell_type": "code",
   "execution_count": 16,
   "metadata": {},
   "outputs": [],
   "source": [
    "# tabela de destino\n",
    "destination_dataset_ref = bigquery.DatasetReference(project_id, dataset_id)\n",
    "destination_table_ref = bigquery.TableReference(destination_dataset_ref, table_id)"
   ]
  },
  {
   "cell_type": "code",
   "execution_count": 17,
   "metadata": {},
   "outputs": [
    {
     "data": {
      "text/plain": [
       "CopyJob<project=teste-greeenpeace, location=US, id=b7cd4eaa-2f6c-4b95-a0ca-b029d468faf4>"
      ]
     },
     "execution_count": 17,
     "metadata": {},
     "output_type": "execute_result"
    }
   ],
   "source": [
    "# tabela de origem  - tabela de destino\n",
    "job_config = bigquery.CopyJobConfig()\n",
    "job = client.copy_table(source_table_ref, destination_table_ref, job_config=job_config)\n",
    "job.result() "
   ]
  },
  {
   "cell_type": "code",
   "execution_count": 21,
   "metadata": {},
   "outputs": [
    {
     "name": "stdout",
     "output_type": "stream",
     "text": [
      "Colunas:\n",
      "report_number\n",
      "reactions\n",
      "outcomes\n",
      "products_brand_name\n",
      "products_industry_code\n",
      "products_role\n",
      "products_industry_name\n",
      "date_created\n",
      "date_started\n",
      "consumer_gender\n",
      "consumer_age\n",
      "consumer_age_unit\n"
     ]
    }
   ],
   "source": [
    "# Visualizar colunas para consultas\n",
    "\n",
    "column_names = [field.name for field in table.schema]\n",
    "print(\"Colunas:\")\n",
    "for column_name in column_names:\n",
    "    print(column_name)"
   ]
  },
  {
   "attachments": {},
   "cell_type": "markdown",
   "metadata": {},
   "source": [
    "## Qual o tipo de reação mais reportado na tabela?"
   ]
  },
  {
   "cell_type": "code",
   "execution_count": 79,
   "metadata": {},
   "outputs": [
    {
     "name": "stdout",
     "output_type": "stream",
     "text": [
      "O mais reportado na tabela é 'Ovarian cancer' com um total de 19316.\n"
     ]
    }
   ],
   "source": [
    "query = f\"\"\"\n",
    "SELECT reactions, COUNT(*) AS count\n",
    "FROM `{project_id}.{dataset_id}.{table_id}`\n",
    "GROUP BY reactions\n",
    "ORDER BY count DESC\n",
    "LIMIT 1\n",
    "\"\"\"\n",
    "\n",
    "query_job = client.query(query)\n",
    "results = query_job.result()\n",
    "\n",
    "\n",
    "for row in results:\n",
    "    most_reported_reaction = row['reactions']\n",
    "    report_count = row['count']\n",
    "\n",
    "# Imprimir o tipo de reação mais reportado\n",
    "print(f\"O mais reportado na tabela é '{most_reported_reaction}' com um total de {report_count}.\")"
   ]
  },
  {
   "attachments": {},
   "cell_type": "markdown",
   "metadata": {},
   "source": [
    "## Qual o nome da indústria que tem mais mortes reportadas?"
   ]
  },
  {
   "cell_type": "code",
   "execution_count": 58,
   "metadata": {},
   "outputs": [
    {
     "name": "stdout",
     "output_type": "stream",
     "text": [
      "Indústria com mais mortes reportadas: Vit/Min/Prot/Unconv Diet(Human/Animal) (82273 mortes)\n"
     ]
    }
   ],
   "source": [
    "industrias_mortes = \"\"\"\n",
    "SELECT \n",
    "    products_industry_name AS industry_name, \n",
    "    COUNT(*) AS count\n",
    "FROM `{}.{}.{}` \n",
    "GROUP BY products_industry_name\n",
    "ORDER BY count DESC\n",
    "LIMIT 1\n",
    "\"\"\".format(project_id, dataset_id, table_id)\n",
    "\n",
    "query_job = client.query(industrias_mortes)\n",
    "result_industry_with_most_deaths = query_job.result()\n",
    "\n",
    "if result_industry_with_most_deaths:\n",
    "    first_row = next(result_industry_with_most_deaths)\n",
    "    industry_name = first_row[\"industry_name\"]\n",
    "    count = first_row[\"count\"]\n",
    "    print(\"Indústria com mais mortes reportadas: {} ({} mortes)\".format(industry_name, count))\n",
    "else:\n",
    "    print(\"Nenhum resultado encontrado.\")\n"
   ]
  },
  {
   "attachments": {},
   "cell_type": "markdown",
   "metadata": {},
   "source": [
    "## Quais as 3 principais reações adversas de pessoas entre 18-25 anos na indústria de cosméticos?"
   ]
  },
  {
   "cell_type": "code",
   "execution_count": 77,
   "metadata": {},
   "outputs": [
    {
     "name": "stdout",
     "output_type": "stream",
     "text": [
      "As três principais reações adversas de pessoas entre 18-25 anos na indústria de cosméticos são:\n",
      "Reação: Ovarian cancer, Contagem: 298\n",
      "Reação: Alopecia, Contagem: 101\n",
      "Reação: Ovarian cancer stage I, Contagem: 60\n"
     ]
    }
   ],
   "source": [
    "top_3_reacoes = f\"\"\"\n",
    "SELECT reactions, COUNT(*) AS count\n",
    "FROM `{project_id}.{dataset_id}.{table_id}`\n",
    "WHERE consumer_age BETWEEN 18 AND 25 AND products_industry_name = 'Cosmetics'\n",
    "GROUP BY reactions\n",
    "ORDER BY count DESC\n",
    "LIMIT 3\n",
    "\"\"\"\n",
    "\n",
    "# Executar a consulta e obter resultados\n",
    "query_job = client.query(top_3_reacoes)\n",
    "results = query_job.result()\n",
    "\n",
    "# Imprimir as três principais reações adversas\n",
    "print(\"As três principais reações adversas de pessoas entre 18-25 anos na indústria de cosméticos são:\")\n",
    "for row in results:\n",
    "    print(f\"Reação: {row['reactions']}, Contagem: {row['count']}\")"
   ]
  }
 ],
 "metadata": {
  "kernelspec": {
   "display_name": "Python 3",
   "language": "python",
   "name": "python3"
  },
  "language_info": {
   "codemirror_mode": {
    "name": "ipython",
    "version": 3
   },
   "file_extension": ".py",
   "mimetype": "text/x-python",
   "name": "python",
   "nbconvert_exporter": "python",
   "pygments_lexer": "ipython3",
   "version": "3.11.3"
  },
  "orig_nbformat": 4
 },
 "nbformat": 4,
 "nbformat_minor": 2
}
